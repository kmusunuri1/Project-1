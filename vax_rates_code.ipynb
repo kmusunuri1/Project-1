{
 "cells": [
  {
   "cell_type": "markdown",
   "id": "020c1e05",
   "metadata": {},
   "source": [
    "# Pandemic Preparedness Analysis - Vaccine Administration Table"
   ]
  },
  {
   "cell_type": "code",
   "execution_count": 1,
   "id": "36face50",
   "metadata": {},
   "outputs": [],
   "source": [
    "#Dependencies\n",
    "import pandas as pd\n",
    "import os"
   ]
  },
  {
   "cell_type": "code",
   "execution_count": 2,
   "id": "fae44f08",
   "metadata": {},
   "outputs": [],
   "source": [
    "# pulling in datasets\n",
    "\n",
    "#cdc csv\n",
    "cdc = \"cdc_source.csv\"\n",
    "\n",
    "#google data\n",
    "vaccine = \"https://storage.googleapis.com/covid19-open-data/v3/vaccinations.csv\""
   ]
  },
  {
   "cell_type": "code",
   "execution_count": 3,
   "id": "3b4e9715",
   "metadata": {},
   "outputs": [],
   "source": [
    "# read in files\n",
    "cdc_df = pd.read_csv(cdc)\n",
    "vax_df = pd.read_csv(vaccine)"
   ]
  },
  {
   "cell_type": "code",
   "execution_count": 4,
   "id": "5147f20a",
   "metadata": {},
   "outputs": [],
   "source": [
    "# keep: date, loc-key, new person vax, cumulative person vax, new persons full vax, \\\n",
    "# cumulative person full vax, new vax doses admined, cumul vax doses admin, \n",
    "\n",
    "\n",
    "vax_df = vax_df.drop(columns=['new_persons_vaccinated_pfizer', \\\n",
    "                               'cumulative_persons_vaccinated_pfizer', \\\n",
    "                               'new_persons_fully_vaccinated_pfizer', \\\n",
    "                               'cumulative_persons_fully_vaccinated_pfizer', \\\n",
    "                               'new_vaccine_doses_administered_pfizer', \\\n",
    "                               'cumulative_vaccine_doses_administered_pfizer', \\\n",
    "                               'new_persons_vaccinated_moderna', \\\n",
    "                               'cumulative_persons_vaccinated_moderna', \\\n",
    "                               'new_persons_fully_vaccinated_moderna', \\\n",
    "                               'cumulative_persons_fully_vaccinated_moderna', \\\n",
    "                               'new_vaccine_doses_administered_moderna', \\\n",
    "                               'cumulative_vaccine_doses_administered_moderna', \\\n",
    "                               'new_persons_vaccinated_janssen', \\\n",
    "                               'cumulative_persons_vaccinated_janssen', \\\n",
    "                               'new_persons_fully_vaccinated_janssen', \\\n",
    "                               'cumulative_persons_fully_vaccinated_janssen', \\\n",
    "                               'new_vaccine_doses_administered_janssen', \\\n",
    "                               'cumulative_vaccine_doses_administered_janssen', \\\n",
    "                               'new_persons_vaccinated_sinovac', \\\n",
    "                               'total_persons_vaccinated_sinovac', \\\n",
    "                               'new_persons_fully_vaccinated_sinovac', \\\n",
    "                               'total_persons_fully_vaccinated_sinovac', \\\n",
    "                               'new_vaccine_doses_administered_sinovac', \\\n",
    "                               'total_vaccine_doses_administered_sinovac'])\n"
   ]
  },
  {
   "cell_type": "code",
   "execution_count": 5,
   "id": "57b8dc96",
   "metadata": {},
   "outputs": [],
   "source": [
    "# clean vax columns\n",
    "\n",
    "vax_df.rename(columns={'date':'Date',\n",
    " 'location_key':'State',\n",
    " 'new_persons_vaccinated':'New Persons Vaccinated',\n",
    " 'cumulative_persons_vaccinated':'Cumulative Persons Vaccinated',\n",
    " 'new_persons_fully_vaccinated':'New Persons Fully Vaccinated',\n",
    " 'cumulative_persons_fully_vaccinated':'Cumulative Persons Fully Vaccinated',\n",
    " 'new_vaccine_doses_administered':'New Vaccines Doses Admined',\n",
    " 'cumulative_vaccine_doses_administered':'Cumulative Vaccines Doses Admined'}, inplace=True)"
   ]
  },
  {
   "cell_type": "code",
   "execution_count": 6,
   "id": "a817d951",
   "metadata": {},
   "outputs": [],
   "source": [
    "#cdc column cleanup\n",
    "\n",
    "cdc_df.rename(columns={'submission_date':'Date','state':'State', 'tot_cases':'Total Cases', \\\n",
    "'new_case': 'Confirmed New C19 Case', 'tot_death': 'Total Death', \\\n",
    "                      'new_death': 'Confirmed New C19 Death'}, inplace=True)"
   ]
  },
  {
   "cell_type": "code",
   "execution_count": 7,
   "id": "132365ae",
   "metadata": {},
   "outputs": [],
   "source": [
    "vax_df['State'] = vax_df['State'].replace({'US_NY':'NY','US_TX':'TX'}) "
   ]
  },
  {
   "cell_type": "code",
   "execution_count": 8,
   "id": "42ca6369",
   "metadata": {},
   "outputs": [],
   "source": [
    "cdc_df = cdc_df.astype({'Date':\"datetime64\"})"
   ]
  },
  {
   "cell_type": "code",
   "execution_count": 9,
   "id": "4f7d2833",
   "metadata": {},
   "outputs": [],
   "source": [
    "vax_df = vax_df.astype({'Date':\"datetime64\"})"
   ]
  },
  {
   "cell_type": "code",
   "execution_count": 12,
   "id": "8351068d",
   "metadata": {},
   "outputs": [],
   "source": [
    "# filter out tables on states and dates\n",
    "\n",
    "cdc_df = pd.DataFrame(cdc_df.loc[(cdc_df['State'] == 'NY') | (cdc_df['State'] == 'TX'), :])"
   ]
  },
  {
   "cell_type": "code",
   "execution_count": 14,
   "id": "21ccdd3f",
   "metadata": {},
   "outputs": [],
   "source": [
    "vax_df = pd.DataFrame(vax_df.loc[(vax_df['State'] == 'NY') | (vax_df['State'] == 'TX'), :])"
   ]
  },
  {
   "cell_type": "code",
   "execution_count": 16,
   "id": "6020c240",
   "metadata": {},
   "outputs": [],
   "source": [
    "#filter down dates\n",
    "\n",
    "#cdc October 2020 to Dec 2021\n",
    "cdc_post = pd.DataFrame(cdc_df.loc[(cdc_df['Date'] > '2020-09-30') & (cdc_df['Date'] \\\n",
    "                                                                      <'2022-01-01'), :])"
   ]
  },
  {
   "cell_type": "code",
   "execution_count": 21,
   "id": "0951d0a8",
   "metadata": {},
   "outputs": [],
   "source": [
    "#vax October 2020 to Dec 2021\n",
    "\n",
    "vax_df = pd.DataFrame(vax_df.loc[(vax_df['Date'] > '2020-09-30') & (vax_df['Date'] \\\n",
    "                                                                    <'2022-01-01'), :])"
   ]
  },
  {
   "cell_type": "code",
   "execution_count": 20,
   "id": "c5d5297d",
   "metadata": {
    "scrolled": true
   },
   "outputs": [
    {
     "data": {
      "text/plain": [
       "Date                       914\n",
       "State                      914\n",
       "Total Cases                914\n",
       "Confirmed New C19 Case     914\n",
       "Total Death                914\n",
       "Confirmed New C19 Death    914\n",
       "dtype: int64"
      ]
     },
     "execution_count": 20,
     "metadata": {},
     "output_type": "execute_result"
    }
   ],
   "source": [
    "cdc_post.count()"
   ]
  },
  {
   "cell_type": "code",
   "execution_count": 22,
   "id": "7c9667ac",
   "metadata": {
    "scrolled": true
   },
   "outputs": [
    {
     "data": {
      "text/plain": [
       "Date                                   702\n",
       "State                                  702\n",
       "New Persons Vaccinated                 697\n",
       "Cumulative Persons Vaccinated          700\n",
       "New Persons Fully Vaccinated           696\n",
       "Cumulative Persons Fully Vaccinated    696\n",
       "New Vaccines Doses Admined             700\n",
       "Cumulative Vaccines Doses Admined      702\n",
       "dtype: int64"
      ]
     },
     "execution_count": 22,
     "metadata": {},
     "output_type": "execute_result"
    }
   ],
   "source": [
    "vax_df.count()"
   ]
  },
  {
   "cell_type": "code",
   "execution_count": 23,
   "id": "1e8574ef",
   "metadata": {},
   "outputs": [],
   "source": [
    "cdc_post.to_csv(\"cdc_post_vax.csv\", index=False, header=True)"
   ]
  },
  {
   "cell_type": "code",
   "execution_count": 27,
   "id": "5be99e22",
   "metadata": {},
   "outputs": [],
   "source": [
    "#merge tables keep nan\n",
    "\n",
    "vax_stats = pd.merge(cdc_post, vax_df, how = 'left', on = ['Date','State'])"
   ]
  },
  {
   "cell_type": "code",
   "execution_count": 28,
   "id": "c8711307",
   "metadata": {},
   "outputs": [
    {
     "data": {
      "text/plain": [
       "Date                                   914\n",
       "State                                  914\n",
       "Total Cases                            914\n",
       "Confirmed New C19 Case                 914\n",
       "Total Death                            914\n",
       "Confirmed New C19 Death                914\n",
       "New Persons Vaccinated                 697\n",
       "Cumulative Persons Vaccinated          700\n",
       "New Persons Fully Vaccinated           696\n",
       "Cumulative Persons Fully Vaccinated    696\n",
       "New Vaccines Doses Admined             700\n",
       "Cumulative Vaccines Doses Admined      702\n",
       "dtype: int64"
      ]
     },
     "execution_count": 28,
     "metadata": {},
     "output_type": "execute_result"
    }
   ],
   "source": [
    "vax_stats.count()"
   ]
  },
  {
   "cell_type": "code",
   "execution_count": 30,
   "id": "4107c9d8",
   "metadata": {},
   "outputs": [],
   "source": [
    "vax_stats = vax_stats.sort_values(by=['State','Date'], ascending = [True, True])"
   ]
  },
  {
   "cell_type": "code",
   "execution_count": 32,
   "id": "89f56121",
   "metadata": {},
   "outputs": [],
   "source": [
    "vax_stats = vax_stats.reset_index(drop=True)"
   ]
  },
  {
   "cell_type": "code",
   "execution_count": 33,
   "id": "5bb85ecf",
   "metadata": {},
   "outputs": [
    {
     "data": {
      "text/html": [
       "<div>\n",
       "<style scoped>\n",
       "    .dataframe tbody tr th:only-of-type {\n",
       "        vertical-align: middle;\n",
       "    }\n",
       "\n",
       "    .dataframe tbody tr th {\n",
       "        vertical-align: top;\n",
       "    }\n",
       "\n",
       "    .dataframe thead th {\n",
       "        text-align: right;\n",
       "    }\n",
       "</style>\n",
       "<table border=\"1\" class=\"dataframe\">\n",
       "  <thead>\n",
       "    <tr style=\"text-align: right;\">\n",
       "      <th></th>\n",
       "      <th>Date</th>\n",
       "      <th>State</th>\n",
       "      <th>Total Cases</th>\n",
       "      <th>Confirmed New C19 Case</th>\n",
       "      <th>Total Death</th>\n",
       "      <th>Confirmed New C19 Death</th>\n",
       "      <th>New Persons Vaccinated</th>\n",
       "      <th>Cumulative Persons Vaccinated</th>\n",
       "      <th>New Persons Fully Vaccinated</th>\n",
       "      <th>Cumulative Persons Fully Vaccinated</th>\n",
       "      <th>New Vaccines Doses Admined</th>\n",
       "      <th>Cumulative Vaccines Doses Admined</th>\n",
       "    </tr>\n",
       "  </thead>\n",
       "  <tbody>\n",
       "    <tr>\n",
       "      <th>0</th>\n",
       "      <td>2020-10-01</td>\n",
       "      <td>NY</td>\n",
       "      <td>215,457</td>\n",
       "      <td>849</td>\n",
       "      <td>9,046</td>\n",
       "      <td>5</td>\n",
       "      <td>NaN</td>\n",
       "      <td>NaN</td>\n",
       "      <td>NaN</td>\n",
       "      <td>NaN</td>\n",
       "      <td>NaN</td>\n",
       "      <td>NaN</td>\n",
       "    </tr>\n",
       "    <tr>\n",
       "      <th>1</th>\n",
       "      <td>2020-10-02</td>\n",
       "      <td>NY</td>\n",
       "      <td>216,456</td>\n",
       "      <td>999</td>\n",
       "      <td>9,050</td>\n",
       "      <td>4</td>\n",
       "      <td>NaN</td>\n",
       "      <td>NaN</td>\n",
       "      <td>NaN</td>\n",
       "      <td>NaN</td>\n",
       "      <td>NaN</td>\n",
       "      <td>NaN</td>\n",
       "    </tr>\n",
       "    <tr>\n",
       "      <th>2</th>\n",
       "      <td>2020-10-03</td>\n",
       "      <td>NY</td>\n",
       "      <td>217,475</td>\n",
       "      <td>1,019</td>\n",
       "      <td>9,057</td>\n",
       "      <td>7</td>\n",
       "      <td>NaN</td>\n",
       "      <td>NaN</td>\n",
       "      <td>NaN</td>\n",
       "      <td>NaN</td>\n",
       "      <td>NaN</td>\n",
       "      <td>NaN</td>\n",
       "    </tr>\n",
       "    <tr>\n",
       "      <th>3</th>\n",
       "      <td>2020-10-04</td>\n",
       "      <td>NY</td>\n",
       "      <td>218,165</td>\n",
       "      <td>690</td>\n",
       "      <td>9,068</td>\n",
       "      <td>11</td>\n",
       "      <td>NaN</td>\n",
       "      <td>NaN</td>\n",
       "      <td>NaN</td>\n",
       "      <td>NaN</td>\n",
       "      <td>NaN</td>\n",
       "      <td>NaN</td>\n",
       "    </tr>\n",
       "    <tr>\n",
       "      <th>4</th>\n",
       "      <td>2020-10-05</td>\n",
       "      <td>NY</td>\n",
       "      <td>218,630</td>\n",
       "      <td>465</td>\n",
       "      <td>9,073</td>\n",
       "      <td>5</td>\n",
       "      <td>NaN</td>\n",
       "      <td>NaN</td>\n",
       "      <td>NaN</td>\n",
       "      <td>NaN</td>\n",
       "      <td>NaN</td>\n",
       "      <td>NaN</td>\n",
       "    </tr>\n",
       "    <tr>\n",
       "      <th>...</th>\n",
       "      <td>...</td>\n",
       "      <td>...</td>\n",
       "      <td>...</td>\n",
       "      <td>...</td>\n",
       "      <td>...</td>\n",
       "      <td>...</td>\n",
       "      <td>...</td>\n",
       "      <td>...</td>\n",
       "      <td>...</td>\n",
       "      <td>...</td>\n",
       "      <td>...</td>\n",
       "      <td>...</td>\n",
       "    </tr>\n",
       "    <tr>\n",
       "      <th>909</th>\n",
       "      <td>2021-12-27</td>\n",
       "      <td>TX</td>\n",
       "      <td>4,516,356</td>\n",
       "      <td>17,331</td>\n",
       "      <td>74,262</td>\n",
       "      <td>170</td>\n",
       "      <td>60469.0</td>\n",
       "      <td>19282639.0</td>\n",
       "      <td>39565.0</td>\n",
       "      <td>16462911.0</td>\n",
       "      <td>256062.0</td>\n",
       "      <td>40274677.0</td>\n",
       "    </tr>\n",
       "    <tr>\n",
       "      <th>910</th>\n",
       "      <td>2021-12-28</td>\n",
       "      <td>TX</td>\n",
       "      <td>4,531,151</td>\n",
       "      <td>14,795</td>\n",
       "      <td>74,330</td>\n",
       "      <td>68</td>\n",
       "      <td>21531.0</td>\n",
       "      <td>19304170.0</td>\n",
       "      <td>14283.0</td>\n",
       "      <td>16477194.0</td>\n",
       "      <td>80208.0</td>\n",
       "      <td>40354885.0</td>\n",
       "    </tr>\n",
       "    <tr>\n",
       "      <th>911</th>\n",
       "      <td>2021-12-29</td>\n",
       "      <td>TX</td>\n",
       "      <td>4,545,437</td>\n",
       "      <td>14,286</td>\n",
       "      <td>74,401</td>\n",
       "      <td>71</td>\n",
       "      <td>32800.0</td>\n",
       "      <td>19336970.0</td>\n",
       "      <td>20321.0</td>\n",
       "      <td>16497515.0</td>\n",
       "      <td>128149.0</td>\n",
       "      <td>40483034.0</td>\n",
       "    </tr>\n",
       "    <tr>\n",
       "      <th>912</th>\n",
       "      <td>2021-12-30</td>\n",
       "      <td>TX</td>\n",
       "      <td>4,561,037</td>\n",
       "      <td>15,600</td>\n",
       "      <td>74,491</td>\n",
       "      <td>90</td>\n",
       "      <td>35165.0</td>\n",
       "      <td>19372135.0</td>\n",
       "      <td>19848.0</td>\n",
       "      <td>16517363.0</td>\n",
       "      <td>129039.0</td>\n",
       "      <td>40612073.0</td>\n",
       "    </tr>\n",
       "    <tr>\n",
       "      <th>913</th>\n",
       "      <td>2021-12-31</td>\n",
       "      <td>TX</td>\n",
       "      <td>4,576,799</td>\n",
       "      <td>15,762</td>\n",
       "      <td>74,491</td>\n",
       "      <td>0</td>\n",
       "      <td>0.0</td>\n",
       "      <td>19372135.0</td>\n",
       "      <td>0.0</td>\n",
       "      <td>16517363.0</td>\n",
       "      <td>0.0</td>\n",
       "      <td>40612073.0</td>\n",
       "    </tr>\n",
       "  </tbody>\n",
       "</table>\n",
       "<p>914 rows × 12 columns</p>\n",
       "</div>"
      ],
      "text/plain": [
       "          Date State Total Cases Confirmed New C19 Case Total Death  \\\n",
       "0   2020-10-01    NY     215,457                    849       9,046   \n",
       "1   2020-10-02    NY     216,456                    999       9,050   \n",
       "2   2020-10-03    NY     217,475                  1,019       9,057   \n",
       "3   2020-10-04    NY     218,165                    690       9,068   \n",
       "4   2020-10-05    NY     218,630                    465       9,073   \n",
       "..         ...   ...         ...                    ...         ...   \n",
       "909 2021-12-27    TX   4,516,356                 17,331      74,262   \n",
       "910 2021-12-28    TX   4,531,151                 14,795      74,330   \n",
       "911 2021-12-29    TX   4,545,437                 14,286      74,401   \n",
       "912 2021-12-30    TX   4,561,037                 15,600      74,491   \n",
       "913 2021-12-31    TX   4,576,799                 15,762      74,491   \n",
       "\n",
       "    Confirmed New C19 Death  New Persons Vaccinated  \\\n",
       "0                         5                     NaN   \n",
       "1                         4                     NaN   \n",
       "2                         7                     NaN   \n",
       "3                        11                     NaN   \n",
       "4                         5                     NaN   \n",
       "..                      ...                     ...   \n",
       "909                     170                 60469.0   \n",
       "910                      68                 21531.0   \n",
       "911                      71                 32800.0   \n",
       "912                      90                 35165.0   \n",
       "913                       0                     0.0   \n",
       "\n",
       "     Cumulative Persons Vaccinated  New Persons Fully Vaccinated  \\\n",
       "0                              NaN                           NaN   \n",
       "1                              NaN                           NaN   \n",
       "2                              NaN                           NaN   \n",
       "3                              NaN                           NaN   \n",
       "4                              NaN                           NaN   \n",
       "..                             ...                           ...   \n",
       "909                     19282639.0                       39565.0   \n",
       "910                     19304170.0                       14283.0   \n",
       "911                     19336970.0                       20321.0   \n",
       "912                     19372135.0                       19848.0   \n",
       "913                     19372135.0                           0.0   \n",
       "\n",
       "     Cumulative Persons Fully Vaccinated  New Vaccines Doses Admined  \\\n",
       "0                                    NaN                         NaN   \n",
       "1                                    NaN                         NaN   \n",
       "2                                    NaN                         NaN   \n",
       "3                                    NaN                         NaN   \n",
       "4                                    NaN                         NaN   \n",
       "..                                   ...                         ...   \n",
       "909                           16462911.0                    256062.0   \n",
       "910                           16477194.0                     80208.0   \n",
       "911                           16497515.0                    128149.0   \n",
       "912                           16517363.0                    129039.0   \n",
       "913                           16517363.0                         0.0   \n",
       "\n",
       "     Cumulative Vaccines Doses Admined  \n",
       "0                                  NaN  \n",
       "1                                  NaN  \n",
       "2                                  NaN  \n",
       "3                                  NaN  \n",
       "4                                  NaN  \n",
       "..                                 ...  \n",
       "909                         40274677.0  \n",
       "910                         40354885.0  \n",
       "911                         40483034.0  \n",
       "912                         40612073.0  \n",
       "913                         40612073.0  \n",
       "\n",
       "[914 rows x 12 columns]"
      ]
     },
     "execution_count": 33,
     "metadata": {},
     "output_type": "execute_result"
    }
   ],
   "source": [
    "vax_stats"
   ]
  },
  {
   "cell_type": "code",
   "execution_count": 34,
   "id": "6abcc2b9",
   "metadata": {},
   "outputs": [],
   "source": [
    "vax_stats.to_csv(\"vax_rates.csv\", index=False, header=True)"
   ]
  },
  {
   "cell_type": "code",
   "execution_count": null,
   "id": "b0644bf6",
   "metadata": {},
   "outputs": [],
   "source": []
  }
 ],
 "metadata": {
  "kernelspec": {
   "display_name": "PythonData",
   "language": "python",
   "name": "pythondata"
  },
  "language_info": {
   "codemirror_mode": {
    "name": "ipython",
    "version": 3
   },
   "file_extension": ".py",
   "mimetype": "text/x-python",
   "name": "python",
   "nbconvert_exporter": "python",
   "pygments_lexer": "ipython3",
   "version": "3.9.12"
  }
 },
 "nbformat": 4,
 "nbformat_minor": 5
}
