{
 "cells": [
  {
   "cell_type": "markdown",
   "id": "03bcda3d",
   "metadata": {},
   "source": [
    "# Pandemic Preparedness Analysis Data Clean Up - Policy Table"
   ]
  },
  {
   "cell_type": "code",
   "execution_count": 1,
   "id": "ab325cd3",
   "metadata": {},
   "outputs": [],
   "source": [
    "#Dependencies\n",
    "import pandas as pd\n",
    "import requests\n",
    "import json\n",
    "import os"
   ]
  },
  {
   "cell_type": "code",
   "execution_count": 2,
   "id": "80108f1c",
   "metadata": {},
   "outputs": [],
   "source": [
    "# pulling in datasets\n",
    "\n",
    "#cdc csv\n",
    "cdc = \"cdc_source.csv\"\n",
    "\n",
    "#new project placeholder\n",
    "\n",
    "#google data\n",
    "policy = \"https://storage.googleapis.com/covid19-open-data/v3/oxford-government-response.csv\"\n",
    "vaccine = \"https://storage.googleapis.com/covid19-open-data/v3/vaccinations.csv\"\n",
    "vaxsite = \"https://storage.googleapis.com/covid19-open-data/covid19-vaccination-access/facility-boundary-us-all.csv\"\n",
    "\n",
    "cdc_df = pd.read_csv(cdc)\n",
    "policy_df = pd.read_csv(policy)\n",
    "vaccine_df = pd.read_csv(vaccine)\n",
    "vaxsite_df = pd.read_csv(vaxsite)"
   ]
  },
  {
   "cell_type": "code",
   "execution_count": 3,
   "id": "6c3084a0",
   "metadata": {},
   "outputs": [
    {
     "data": {
      "text/plain": [
       "submission_date    60060\n",
       "state              60060\n",
       "tot_cases          60060\n",
       "new_case           60060\n",
       "tot_death          60060\n",
       "new_death          60060\n",
       "dtype: int64"
      ]
     },
     "execution_count": 3,
     "metadata": {},
     "output_type": "execute_result"
    }
   ],
   "source": [
    "cdc_df.count()"
   ]
  },
  {
   "cell_type": "code",
   "execution_count": 4,
   "id": "b81971cb",
   "metadata": {},
   "outputs": [],
   "source": [
    "#column cleanup\n",
    "\n",
    "cdc_df.rename(columns={'submission_date':'Date','state':'State', 'tot_cases':'Total Cases', \\\n",
    "'new_case': 'Confirmed New C19 Case', 'tot_death': 'Total Death', \\\n",
    "                      'new_death': 'Confirmed New C19 Death'}, inplace=True)"
   ]
  },
  {
   "cell_type": "code",
   "execution_count": 5,
   "id": "b5a4a9d6",
   "metadata": {},
   "outputs": [
    {
     "data": {
      "text/plain": [
       "Date                       60060\n",
       "State                      60060\n",
       "Total Cases                60060\n",
       "Confirmed New C19 Case     60060\n",
       "Total Death                60060\n",
       "Confirmed New C19 Death    60060\n",
       "dtype: int64"
      ]
     },
     "execution_count": 5,
     "metadata": {},
     "output_type": "execute_result"
    }
   ],
   "source": [
    "cdc_df.count()"
   ]
  },
  {
   "cell_type": "code",
   "execution_count": 6,
   "id": "ed0110b9",
   "metadata": {},
   "outputs": [],
   "source": [
    "cdc_pre = pd.DataFrame(cdc_df.loc[(cdc_df['Date'] > '2020-02-29') \\\n",
    "                                          & (cdc_df['Date'] <'2021-04-01') \\\n",
    "                                    , :])\n",
    "\n",
    "\n",
    "cdc_pre = cdc_pre.sort_values(by=['State','Date'], ascending = [True, True])"
   ]
  },
  {
   "cell_type": "code",
   "execution_count": 7,
   "id": "8e46d188",
   "metadata": {},
   "outputs": [],
   "source": [
    "cdc_pre = pd.DataFrame(cdc_pre.loc[(cdc_pre['State'] == 'NY') | (cdc_pre['State'] == 'TX') \\\n",
    "                                    , :])"
   ]
  },
  {
   "cell_type": "code",
   "execution_count": 8,
   "id": "073aa36e",
   "metadata": {},
   "outputs": [],
   "source": [
    "cdc_pre = cdc_pre.reset_index(drop=True)"
   ]
  },
  {
   "cell_type": "markdown",
   "id": "f0466fd0",
   "metadata": {},
   "source": [
    "## Policy Data Cleanup"
   ]
  },
  {
   "cell_type": "code",
   "execution_count": 9,
   "id": "98bfc6fb",
   "metadata": {},
   "outputs": [
    {
     "data": {
      "text/plain": [
       "['date',\n",
       " 'location_key',\n",
       " 'school_closing',\n",
       " 'workplace_closing',\n",
       " 'cancel_public_events',\n",
       " 'restrictions_on_gatherings',\n",
       " 'public_transport_closing',\n",
       " 'stay_at_home_requirements',\n",
       " 'restrictions_on_internal_movement',\n",
       " 'international_travel_controls',\n",
       " 'income_support',\n",
       " 'debt_relief',\n",
       " 'fiscal_measures',\n",
       " 'international_support',\n",
       " 'public_information_campaigns',\n",
       " 'testing_policy',\n",
       " 'contact_tracing',\n",
       " 'emergency_investment_in_healthcare',\n",
       " 'investment_in_vaccines',\n",
       " 'facial_coverings',\n",
       " 'vaccination_policy',\n",
       " 'stringency_index']"
      ]
     },
     "execution_count": 9,
     "metadata": {},
     "output_type": "execute_result"
    }
   ],
   "source": [
    "list(policy_df)"
   ]
  },
  {
   "cell_type": "code",
   "execution_count": 10,
   "id": "e72d9d73",
   "metadata": {},
   "outputs": [],
   "source": [
    "pol_df = policy_df.drop(columns=['school_closing','workplace_closing', \\\n",
    "                                  'cancel_public_events', 'restrictions_on_gatherings', \\\n",
    "                                  'public_transport_closing', \\\n",
    "                                  'restrictions_on_internal_movement', \\\n",
    "                                  'international_travel_controls', 'income_support', \\\n",
    "                                  'debt_relief', 'fiscal_measures', 'international_support', \\\n",
    "                                  'public_information_campaigns', 'testing_policy', \\\n",
    "                                  'contact_tracing', 'emergency_investment_in_healthcare', \\\n",
    "                                  'investment_in_vaccines', 'facial_coverings', \\\n",
    "                                  'vaccination_policy', 'stringency_index'])\n",
    "\n"
   ]
  },
  {
   "cell_type": "code",
   "execution_count": 11,
   "id": "6086efdd",
   "metadata": {},
   "outputs": [
    {
     "data": {
      "text/plain": [
       "['date', 'location_key', 'stay_at_home_requirements']"
      ]
     },
     "execution_count": 11,
     "metadata": {},
     "output_type": "execute_result"
    }
   ],
   "source": [
    "list(pol_df)"
   ]
  },
  {
   "cell_type": "code",
   "execution_count": 12,
   "id": "109664dc",
   "metadata": {},
   "outputs": [],
   "source": [
    "pol_df.rename(columns={'date':'Date','location_key':'State', 'stay_at_home_requirements':'Stay at Home Orders'}, \\\n",
    "              inplace=True)"
   ]
  },
  {
   "cell_type": "code",
   "execution_count": 13,
   "id": "3eb29b32",
   "metadata": {},
   "outputs": [
    {
     "data": {
      "text/plain": [
       "['Date', 'State', 'Stay at Home Orders']"
      ]
     },
     "execution_count": 13,
     "metadata": {},
     "output_type": "execute_result"
    }
   ],
   "source": [
    "list(pol_df)"
   ]
  },
  {
   "cell_type": "code",
   "execution_count": 14,
   "id": "0af374a5",
   "metadata": {},
   "outputs": [
    {
     "data": {
      "text/html": [
       "<div>\n",
       "<style scoped>\n",
       "    .dataframe tbody tr th:only-of-type {\n",
       "        vertical-align: middle;\n",
       "    }\n",
       "\n",
       "    .dataframe tbody tr th {\n",
       "        vertical-align: top;\n",
       "    }\n",
       "\n",
       "    .dataframe thead th {\n",
       "        text-align: right;\n",
       "    }\n",
       "</style>\n",
       "<table border=\"1\" class=\"dataframe\">\n",
       "  <thead>\n",
       "    <tr style=\"text-align: right;\">\n",
       "      <th></th>\n",
       "      <th>Date</th>\n",
       "      <th>State</th>\n",
       "      <th>Stay at Home Orders</th>\n",
       "    </tr>\n",
       "  </thead>\n",
       "  <tbody>\n",
       "    <tr>\n",
       "      <th>278007</th>\n",
       "      <td>2020-01-01</td>\n",
       "      <td>US_NY</td>\n",
       "      <td>0.0</td>\n",
       "    </tr>\n",
       "    <tr>\n",
       "      <th>278008</th>\n",
       "      <td>2020-01-02</td>\n",
       "      <td>US_NY</td>\n",
       "      <td>0.0</td>\n",
       "    </tr>\n",
       "    <tr>\n",
       "      <th>278009</th>\n",
       "      <td>2020-01-03</td>\n",
       "      <td>US_NY</td>\n",
       "      <td>0.0</td>\n",
       "    </tr>\n",
       "    <tr>\n",
       "      <th>278010</th>\n",
       "      <td>2020-01-04</td>\n",
       "      <td>US_NY</td>\n",
       "      <td>0.0</td>\n",
       "    </tr>\n",
       "    <tr>\n",
       "      <th>278011</th>\n",
       "      <td>2020-01-05</td>\n",
       "      <td>US_NY</td>\n",
       "      <td>0.0</td>\n",
       "    </tr>\n",
       "    <tr>\n",
       "      <th>...</th>\n",
       "      <td>...</td>\n",
       "      <td>...</td>\n",
       "      <td>...</td>\n",
       "    </tr>\n",
       "    <tr>\n",
       "      <th>287255</th>\n",
       "      <td>2022-07-04</td>\n",
       "      <td>US_TX</td>\n",
       "      <td>0.0</td>\n",
       "    </tr>\n",
       "    <tr>\n",
       "      <th>287256</th>\n",
       "      <td>2022-07-19</td>\n",
       "      <td>US_TX</td>\n",
       "      <td>0.0</td>\n",
       "    </tr>\n",
       "    <tr>\n",
       "      <th>287257</th>\n",
       "      <td>2022-07-20</td>\n",
       "      <td>US_TX</td>\n",
       "      <td>0.0</td>\n",
       "    </tr>\n",
       "    <tr>\n",
       "      <th>287258</th>\n",
       "      <td>2022-07-21</td>\n",
       "      <td>US_TX</td>\n",
       "      <td>0.0</td>\n",
       "    </tr>\n",
       "    <tr>\n",
       "      <th>287259</th>\n",
       "      <td>2022-07-22</td>\n",
       "      <td>US_TX</td>\n",
       "      <td>0.0</td>\n",
       "    </tr>\n",
       "  </tbody>\n",
       "</table>\n",
       "<p>1830 rows × 3 columns</p>\n",
       "</div>"
      ],
      "text/plain": [
       "              Date  State  Stay at Home Orders\n",
       "278007  2020-01-01  US_NY                  0.0\n",
       "278008  2020-01-02  US_NY                  0.0\n",
       "278009  2020-01-03  US_NY                  0.0\n",
       "278010  2020-01-04  US_NY                  0.0\n",
       "278011  2020-01-05  US_NY                  0.0\n",
       "...            ...    ...                  ...\n",
       "287255  2022-07-04  US_TX                  0.0\n",
       "287256  2022-07-19  US_TX                  0.0\n",
       "287257  2022-07-20  US_TX                  0.0\n",
       "287258  2022-07-21  US_TX                  0.0\n",
       "287259  2022-07-22  US_TX                  0.0\n",
       "\n",
       "[1830 rows x 3 columns]"
      ]
     },
     "execution_count": 14,
     "metadata": {},
     "output_type": "execute_result"
    }
   ],
   "source": [
    "pol_df = pol_df[(pol_df.State == 'US_NY')|(pol_df.State == 'US_TX')]\n",
    "\n",
    "pol_df"
   ]
  },
  {
   "cell_type": "code",
   "execution_count": 15,
   "id": "f7d064aa",
   "metadata": {},
   "outputs": [],
   "source": [
    "pol_df = pol_df.astype({'Date':\"datetime64\"})\n"
   ]
  },
  {
   "cell_type": "code",
   "execution_count": 16,
   "id": "ea7690c2",
   "metadata": {},
   "outputs": [],
   "source": [
    "pol_df['State'] = pol_df['State'].replace({'US_NY':'NY','US_TX':'TX'})"
   ]
  },
  {
   "cell_type": "code",
   "execution_count": 17,
   "id": "40eeba0c",
   "metadata": {},
   "outputs": [],
   "source": [
    "pol_df = pol_df.sort_values(by=['State','Date'], ascending = [True, True])"
   ]
  },
  {
   "cell_type": "code",
   "execution_count": 18,
   "id": "3efdef9c",
   "metadata": {},
   "outputs": [],
   "source": [
    "policy_fin = pd.DataFrame(pol_df.loc[(pol_df['Date'] > '2020-02-29') \\\n",
    "                                          & (pol_df['Date'] <'2021-04-01') \\\n",
    "                                    , :])"
   ]
  },
  {
   "cell_type": "code",
   "execution_count": 19,
   "id": "61400ee6",
   "metadata": {},
   "outputs": [
    {
     "data": {
      "text/plain": [
       "Date                   792\n",
       "State                  792\n",
       "Stay at Home Orders    792\n",
       "dtype: int64"
      ]
     },
     "execution_count": 19,
     "metadata": {},
     "output_type": "execute_result"
    }
   ],
   "source": [
    "policy_fin.count()"
   ]
  },
  {
   "cell_type": "code",
   "execution_count": 20,
   "id": "f2510431",
   "metadata": {},
   "outputs": [],
   "source": [
    "policy_fin = policy_fin.reset_index(drop=True)"
   ]
  },
  {
   "cell_type": "code",
   "execution_count": 21,
   "id": "e6a3abb4",
   "metadata": {},
   "outputs": [],
   "source": [
    "# policy_fin is a data frame containing the pertinent google policy data from 3/2020 to 3/2021\n",
    "\n",
    "cdc_pre.to_csv(\"cdc_pre_vax.csv\", index=False, header=True)"
   ]
  },
  {
   "cell_type": "code",
   "execution_count": 23,
   "id": "3d0fbf63",
   "metadata": {},
   "outputs": [],
   "source": [
    "policy_fin.to_csv(\"policy_table.csv\", index=False, header=True)"
   ]
  }
 ],
 "metadata": {
  "kernelspec": {
   "display_name": "PythonData",
   "language": "python",
   "name": "pythondata"
  },
  "language_info": {
   "codemirror_mode": {
    "name": "ipython",
    "version": 3
   },
   "file_extension": ".py",
   "mimetype": "text/x-python",
   "name": "python",
   "nbconvert_exporter": "python",
   "pygments_lexer": "ipython3",
   "version": "3.9.12"
  }
 },
 "nbformat": 4,
 "nbformat_minor": 5
}
